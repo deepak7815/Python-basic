{
 "cells": [
  {
   "cell_type": "markdown",
   "id": "e465ff70-7200-4928-8c86-dc0a1aa936e1",
   "metadata": {},
   "source": [
    "1. What is Python, and why is it popular?\n",
    "   - Python is a high-level, interpreted, general-purpose programming languageknown for it readability and versatility. A programming language is like a setup specials rules and symbols that you use to give instruction to computer.\n",
    "\n",
    "why python -\n",
    "   - python is widely used in the industry\n",
    "   - data industry\n",
    "   - a lot of librasies\n",
    "   - frontend, backend, data analysis\n",
    "   - Automatic\n",
    "   - image processing\n",
    "     "
   ]
  },
  {
   "cell_type": "markdown",
   "id": "bb95cb4c-fe2c-4671-9ee2-994236f6a1b1",
   "metadata": {},
   "source": [
    "2. What is an interpreter in Python?\n",
    " - A python interpreter is a computer program that directly executes code written in the python programming language. instead of translating the entire program into machine code at once, it processes and runs the code line by line."
   ]
  },
  {
   "cell_type": "markdown",
   "id": "4cd7318a-7bf9-4025-88d7-bb56992ca44f",
   "metadata": {},
   "source": [
    "3. What are pre-defined keywords in Python ?\n",
    " - Predefined keywords in python are reserved words that have special meanings and functionalities within the language"
   ]
  },
  {
   "cell_type": "markdown",
   "id": "0245339f-fae0-4930-9c27-1c34ae565eb1",
   "metadata": {},
   "source": [
    "4. Can keywords be used as variable names?\n",
    " - No, generally we cannot use keywords as variable names in most programming languages because they have predefined meanings and are used by the compiler for specific funtions or dtructures"
   ]
  },
  {
   "cell_type": "markdown",
   "id": "67b4ac43-5f0e-4317-8a12-97b0c24ba907",
   "metadata": {},
   "source": [
    "5. What is mutability in Python?\n",
    " - Mutable Objects these are objects whose content or structure can be changed in place. When you modify a mutable object, it's identity remains the same, but it's internal data is updated."
   ]
  },
  {
   "cell_type": "markdown",
   "id": "de6a82b8-5fcc-4226-bef7-67e320923ee8",
   "metadata": {},
   "source": [
    "6. Why are lists mutable, but tuples are immutable?\n",
    "\n",
    " - list are mutable their class implementation includes operations that allow for adding, removing, and changing elements after creation\n",
    "\n",
    " - tuples are immutable because their implementation does not provide such mutator methods, meanings they are fixed and cannot be changed once defined."
   ]
  },
  {
   "cell_type": "markdown",
   "id": "1f380184-e30e-4e08-9195-3eb35e0f4c48",
   "metadata": {},
   "source": [
    "7. What is the difference between “==” and “is” operators in Python?\n",
    "\n",
    " - The main difference between Python \"==\" and \"is\" operators is that \"==\" compares the values of objects, while \"is\" compares their identities and \"==\" Operator the abjects have the same content and value but \"is\" Operator The variables point to the exact same object in memory."
   ]
  },
  {
   "cell_type": "markdown",
   "id": "2651bacf-b261-4b29-ac2c-2a9265e1bd20",
   "metadata": {},
   "source": [
    "8. What are logical operators in Python?\n",
    "   \n",
    " - Logical operators in Python are used to combine conditional statements and perform logical operations on Boolean values (True or False). They are essential for controlling program flow and decision-making. Python has three primary logical operators: and, or, not"
   ]
  },
  {
   "cell_type": "markdown",
   "id": "59cfeeb6-4215-40a9-8294-e4a632d41d92",
   "metadata": {},
   "source": [
    "9. What is type casting in Python ?\n",
    "\n",
    " - Type casting in Python, also known as type conversion, refers to the process of converting a variable or value from one data type to another. This is a fundamental concept in programming, as it allows for flexibility in handling data and ensures that operations are performed on compatible data types."
   ]
  },
  {
   "cell_type": "markdown",
   "id": "3979a3a0-dc86-4168-b91f-289f7406e7a6",
   "metadata": {},
   "source": [
    "10. What is the difference between implicit and explicit type casting?\n",
    "\n",
    " - Implicit type casting (or conversion) happens automatically when a smaller data type is converted to a larger one, preventing data loss, while explicit type casting (or typecasting) is a user-defined process where a programmer manually converts a data type, often from a larger to a smaller one, requiring the programmer to use specific functions or operators to handle potential data loss. "
   ]
  },
  {
   "cell_type": "markdown",
   "id": "09188e90-7b28-4454-80f0-e05344623d1c",
   "metadata": {},
   "source": [
    "11. What is the purpose of conditional statements in Python?\n",
    "\n",
    " - Conditional statements in Python serve the purpose of controlling the flow of a program based on certain conditions. They enable programs to make decisions and execute different blocks of code depending on whether a specified condition evaluates to True or False."
   ]
  },
  {
   "cell_type": "markdown",
   "id": "d5679968-4a7a-40c1-85af-0cb94b84a39c",
   "metadata": {},
   "source": [
    "12. How does the elif statement work?\n",
    "\n",
    " - The elif statement, short for \"else if,\" is a conditional statement used in programming languages like Python to check for multiple conditions sequentially. It functions as follows:\n",
    "   \n",
    "Follows an if statement: An elif statement always comes after an if statement (and potentially other elif statements) within the same conditional block.\n",
    "\n",
    "Evaluates its condition if previous conditions are false: The elif statement's condition is assessed only if the preceding if statement's condition (and any prior elif statements' conditions) are found to be False.\n",
    "\n",
    "Executes its code block if its condition is true: If the elif statement's condition evaluates to True, the code block indented beneath it is executed."
   ]
  },
  {
   "cell_type": "markdown",
   "id": "c17bd975-add7-4847-a130-5eb33bb48275",
   "metadata": {},
   "source": [
    "13. What is the difference between for and while loops?\n",
    "\n",
    " - A for loop is used for a predetermined number of iterations, like looping through a fixed-size list or a specific range of numbers. In contrast, a while loop is for situations where the number of iterations is unknown and depends on a dynamic condition that could be true or false at any time. The for loop's structure often includes initialization, condition checking, and an update expression (like an increment) in one concise statement, while a while loop requires you to handle these elements separately within the loop's code block.\n",
    "\n",
    "   For Loop:\n",
    "Known Iterations: Ideal when you know exactly how many times you need to repeat an action. \n",
    "Structure: Typically includes initialization, a condition, and an update expression in a single, concise line of code.\n",
    "\n",
    " While Loop:\n",
    "Unknown Iterations: Used when the loop needs to continue until a certain condition is no longer true, without knowing in advance how many times it will run. \n",
    "\n",
    "Structure: Has a condition that is checked before each iteration; the loop's code block is executed as long as the condition remains true. "
   ]
  },
  {
   "cell_type": "code",
   "execution_count": null,
   "id": "d591d801-5225-4c8f-9c30-970dbbb1b8ac",
   "metadata": {},
   "outputs": [],
   "source": [
    "14. #Describe a scenario where a while loop is more suitable than a for loop?\n",
    "\n",
    " '''- A while loop is more suitable than a for loop in scenarios where the number of iterations is not known in advance and depends on a specific condition being met.\n",
    " \n",
    "Consider a program that repeatedly prompts a user for input until they enter a specific command to exit. In this case, the program does not know how many times the user will provide input before deciding to quit.'''\n",
    "\n",
    "user_input = \"\"\n",
    "while user_input.lower() != \"exit\":\n",
    "    user_input = input(\"Enter a command (type 'exit' to quit): \")\n",
    "    print(f\"You entered: {user_input}\")\n",
    "\n",
    "print(\"Exiting the program.\")\n",
    "\n",
    "'''In this example, the while loop continues to execute as long as the user_input variable is not equal to \"exit\". The number of times the loop runs is entirely determined by the user's actions, making a while loop the appropriate choice over a for loop, which is typically used when iterating a known number of times or over a predefined collection.'''"
   ]
  },
  {
   "cell_type": "code",
   "execution_count": null,
   "id": "5e723a56-0c92-4a92-889f-521d55c715e6",
   "metadata": {},
   "outputs": [],
   "source": []
  },
  {
   "cell_type": "code",
   "execution_count": null,
   "id": "e803ed03-db16-44b8-89c2-ed2c50a6daac",
   "metadata": {},
   "outputs": [],
   "source": []
  },
  {
   "cell_type": "code",
   "execution_count": null,
   "id": "861ed027-d5d3-4e7b-b91d-62dfafd32954",
   "metadata": {},
   "outputs": [],
   "source": []
  },
  {
   "cell_type": "code",
   "execution_count": 7,
   "id": "c3c85d69-188f-45f4-8a3e-05564efff955",
   "metadata": {},
   "outputs": [
    {
     "name": "stdout",
     "output_type": "stream",
     "text": [
      "Hello, world!\n"
     ]
    }
   ],
   "source": [
    "#Practical Questions\n",
    "\n",
    "1. #Write a Python program to print \"Hello, World!\n",
    "print(\"Hello, world!\")\n",
    "\n"
   ]
  },
  {
   "cell_type": "code",
   "execution_count": 9,
   "id": "c0feaa08-a01b-4c48-a275-0ae560db020a",
   "metadata": {},
   "outputs": [
    {
     "name": "stdin",
     "output_type": "stream",
     "text": [
      "Enter your name:  Deepak\n",
      "Enter your age:  23\n"
     ]
    },
    {
     "name": "stdout",
     "output_type": "stream",
     "text": [
      "My name is Deepak\n",
      "I am 23 years old\n"
     ]
    }
   ],
   "source": [
    "2. #Write a Python program that displays your name and age\n",
    "\n",
    "name = input(\"Enter your name: \")\n",
    "age = input(\"Enter your age: \")\n",
    "\n",
    "print(\"My name is\", name)\n",
    "print(\"I am\", age, \"years old\")\n"
   ]
  },
  {
   "cell_type": "code",
   "execution_count": 11,
   "id": "9517bfc9-287a-4d1b-bcdf-e9bacfba4028",
   "metadata": {},
   "outputs": [
    {
     "name": "stdout",
     "output_type": "stream",
     "text": [
      "Python keywords are:\n",
      "False\n",
      "None\n",
      "True\n",
      "and\n",
      "as\n",
      "assert\n",
      "async\n",
      "await\n",
      "break\n",
      "class\n",
      "continue\n",
      "def\n",
      "del\n",
      "elif\n",
      "else\n",
      "except\n",
      "finally\n",
      "for\n",
      "from\n",
      "global\n",
      "if\n",
      "import\n",
      "in\n",
      "is\n",
      "lambda\n",
      "nonlocal\n",
      "not\n",
      "or\n",
      "pass\n",
      "raise\n",
      "return\n",
      "try\n",
      "while\n",
      "with\n",
      "yield\n"
     ]
    }
   ],
   "source": [
    "3. #Write code to print all the pre-defined keywords in Python using the keyword library\n",
    "\n",
    "import keyword\n",
    "\n",
    "# Get the list of all Python keywords\n",
    "keywords = keyword.kwlist\n",
    "\n",
    "print(\"Python keywords are:\")\n",
    "for kw in keywords:\n",
    "    print(kw)\n"
   ]
  },
  {
   "cell_type": "code",
   "execution_count": 15,
   "id": "52500361-bc81-49f0-8910-72767e71bae6",
   "metadata": {},
   "outputs": [
    {
     "name": "stdin",
     "output_type": "stream",
     "text": [
      "Enter a word:  while\n"
     ]
    },
    {
     "name": "stdout",
     "output_type": "stream",
     "text": [
      "'while' is a Python keyword.\n"
     ]
    }
   ],
   "source": [
    "4. #Write a program that checks if a given word is a Python keyword.\n",
    "\n",
    "import keyword\n",
    "\n",
    "# Take input from user\n",
    "word = input(\"Enter a word: \")\n",
    "\n",
    "# Check if it's a Python keyword\n",
    "if keyword.iskeyword(word):\n",
    "    print(f\"'{word}' is a Python keyword.\")\n",
    "else:\n",
    "    print(f\"'{word}' is NOT a Python keyword.\")\n"
   ]
  },
  {
   "cell_type": "code",
   "execution_count": 16,
   "id": "e38715d3-4d64-4d83-9d2f-650cc517b67c",
   "metadata": {},
   "outputs": [
    {
     "name": "stdout",
     "output_type": "stream",
     "text": [
      "Original List: [1, 2, 3, 4]\n",
      "Original Tuple: (1, 2, 3, 4)\n",
      "Modified List: [1, 2, 9, 4]\n",
      "Error when modifying tuple: 'tuple' object does not support item assignment\n"
     ]
    }
   ],
   "source": [
    "5. #Create a list and tuple in Python, and demonstrate how attempting to change an element works differently for each.\n",
    "\n",
    "# Creating a list and a tuple\n",
    "my_list = [1, 2, 3, 4]\n",
    "my_tuple = (1, 2, 3, 4)\n",
    "\n",
    "print(\"Original List:\", my_list)\n",
    "print(\"Original Tuple:\", my_tuple)\n",
    "\n",
    "# Modifying the list\n",
    "my_list[2] = 9   # Works fine\n",
    "print(\"Modified List:\", my_list)\n",
    "\n",
    "# Attempting to modify the tuple\n",
    "try:\n",
    "    my_tuple[2] = 9   # This will cause an error\n",
    "except TypeError as e:\n",
    "    print(\"Error when modifying tuple:\", e)\n"
   ]
  },
  {
   "cell_type": "code",
   "execution_count": 18,
   "id": "326f7cdf-d397-43a5-b526-8e964aee6f34",
   "metadata": {},
   "outputs": [
    {
     "name": "stdin",
     "output_type": "stream",
     "text": [
      "Enter first number:  45\n",
      "Enter second number:  67\n"
     ]
    },
    {
     "name": "stdout",
     "output_type": "stream",
     "text": [
      "\n",
      "Results:\n",
      "Addition: 112.0\n",
      "Subtraction: -22.0\n",
      "Multiplication: 3015.0\n",
      "Division: 0.6716417910447762\n"
     ]
    }
   ],
   "source": [
    "7. #Write a program that performs basic arithmetic operations on two user-input numbers.\n",
    "\n",
    "# Program to perform basic arithmetic operations\n",
    "\n",
    "# Taking input from user\n",
    "num1 = float(input(\"Enter first number: \"))\n",
    "num2 = float(input(\"Enter second number: \"))\n",
    "\n",
    "# Performing operations\n",
    "print(\"\\nResults:\")\n",
    "print(\"Addition:\", num1 + num2)\n",
    "print(\"Subtraction:\", num1 - num2)\n",
    "print(\"Multiplication:\", num1 * num2)\n",
    "\n",
    "# Handling division carefully (avoid division by zero)\n",
    "if num2 != 0:\n",
    "    print(\"Division:\", num1 / num2)\n",
    "else:\n",
    "    print(\"Division: Error! Cannot divide by zero.\")\n"
   ]
  },
  {
   "cell_type": "code",
   "execution_count": 19,
   "id": "514eba29-33c7-46cb-b1f5-b308c0c0fecf",
   "metadata": {},
   "outputs": [
    {
     "name": "stdout",
     "output_type": "stream",
     "text": [
      "a = True\n",
      "b = False\n",
      "\n",
      "a and b: False\n",
      "a or b: True\n",
      "not a: False\n",
      "not b: True\n",
      "\n",
      "Values: x = 10 , y = 20\n",
      "x > 5 and y > 15: True\n",
      "x > 15 or y > 15: True\n",
      "not(x > y): True\n"
     ]
    }
   ],
   "source": [
    "8. #Write a program to demonstrate the use of logical operators.\n",
    "\n",
    "# Program to demonstrate logical operators\n",
    "\n",
    "a = True\n",
    "b = False\n",
    "\n",
    "print(\"a =\", a)\n",
    "print(\"b =\", b)\n",
    "\n",
    "# Logical AND\n",
    "print(\"\\na and b:\", a and b)\n",
    "\n",
    "# Logical OR\n",
    "print(\"a or b:\", a or b)\n",
    "\n",
    "# Logical NOT\n",
    "print(\"not a:\", not a)\n",
    "print(\"not b:\", not b)\n",
    "\n",
    "# Demonstrating with conditions\n",
    "x = 10\n",
    "y = 20\n",
    "\n",
    "print(\"\\nValues: x =\", x, \", y =\", y)\n",
    "\n",
    "print(\"x > 5 and y > 15:\", x > 5 and y > 15)\n",
    "print(\"x > 15 or y > 15:\", x > 15 or y > 15)\n",
    "print(\"not(x > y):\", not (x > y))\n"
   ]
  },
  {
   "cell_type": "code",
   "execution_count": 21,
   "id": "794f043c-fddb-4d36-88a5-1bcf149980ea",
   "metadata": {},
   "outputs": [
    {
     "name": "stdin",
     "output_type": "stream",
     "text": [
      "Enter a number:  -90\n"
     ]
    },
    {
     "name": "stdout",
     "output_type": "stream",
     "text": [
      "The number is Negative.\n"
     ]
    }
   ],
   "source": [
    "11. #Write a program that checks if a number is positive, negative, or zero.\n",
    "\n",
    "# Program to check if a number is positive, negative, or zero\n",
    "\n",
    "# Take input from user\n",
    "num = float(input(\"Enter a number: \"))\n",
    "\n",
    "# Check conditions\n",
    "if num > 0:\n",
    "    print(\"The number is Positive.\")\n",
    "elif num < 0:\n",
    "    print(\"The number is Negative.\")\n",
    "else:\n",
    "    print(\"The number is Zero.\")\n"
   ]
  },
  {
   "cell_type": "code",
   "execution_count": 22,
   "id": "b246b049-1b28-4293-9ab3-a5e705bca49a",
   "metadata": {},
   "outputs": [
    {
     "name": "stdout",
     "output_type": "stream",
     "text": [
      "1 2 3 4 5 6 7 8 9 10 "
     ]
    }
   ],
   "source": [
    "12. # Write a for loop to print numbers from 1 to 10\n",
    "\n",
    "for i in range(1, 11):\n",
    "    print(i, end=\" \")\n"
   ]
  },
  {
   "cell_type": "code",
   "execution_count": 23,
   "id": "aac3215a-d572-41fa-89f6-1574bd82f38f",
   "metadata": {},
   "outputs": [
    {
     "name": "stdout",
     "output_type": "stream",
     "text": [
      "The sum of even numbers from 1 to 50 is: 650\n"
     ]
    }
   ],
   "source": [
    "13. # Write a Python program to find the sum of all even numbers between 1 and 50.\n",
    "\n",
    "# Program to find the sum of even numbers from 1 to 50\n",
    "\n",
    "total = 0\n",
    "\n",
    "for i in range(1, 51):   # numbers from 1 to 50\n",
    "    if i % 2 == 0:       # check if even\n",
    "        total += i\n",
    "\n",
    "print(\"The sum of even numbers from 1 to 50 is:\", total)\n"
   ]
  },
  {
   "cell_type": "code",
   "execution_count": 25,
   "id": "26053eaa-e71f-47db-9b87-5719c69db94c",
   "metadata": {},
   "outputs": [
    {
     "name": "stdin",
     "output_type": "stream",
     "text": [
      "Enter a number:  34\n"
     ]
    },
    {
     "name": "stdout",
     "output_type": "stream",
     "text": [
      "The factorial of 34 is 295232799039604140847618609643520000000\n"
     ]
    }
   ],
   "source": [
    "15. #Write a Python program to calculate the factorial of a number provided by the user using a while loop.\n",
    "\n",
    "# Program to calculate factorial using while loop\n",
    "\n",
    "# Take input from user\n",
    "num = int(input(\"Enter a number: \"))\n",
    "\n",
    "factorial = 1\n",
    "i = 1\n",
    "\n",
    "while i <= num:\n",
    "    factorial *= i\n",
    "    i += 1\n",
    "\n",
    "print(f\"The factorial of {num} is {factorial}\")\n"
   ]
  },
  {
   "cell_type": "code",
   "execution_count": null,
   "id": "369ca9bd-cd3f-4460-83c4-6090a88013b4",
   "metadata": {},
   "outputs": [],
   "source": []
  }
 ],
 "metadata": {
  "kernelspec": {
   "display_name": "Python 3 (ipykernel)",
   "language": "python",
   "name": "python3"
  },
  "language_info": {
   "codemirror_mode": {
    "name": "ipython",
    "version": 3
   },
   "file_extension": ".py",
   "mimetype": "text/x-python",
   "name": "python",
   "nbconvert_exporter": "python",
   "pygments_lexer": "ipython3",
   "version": "3.13.7"
  }
 },
 "nbformat": 4,
 "nbformat_minor": 5
}
